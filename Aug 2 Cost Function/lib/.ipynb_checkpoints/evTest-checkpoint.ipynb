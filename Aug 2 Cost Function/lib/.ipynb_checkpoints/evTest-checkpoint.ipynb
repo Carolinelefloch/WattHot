{
 "cells": [
  {
   "cell_type": "code",
   "execution_count": 1,
   "metadata": {
    "collapsed": false
   },
   "outputs": [],
   "source": [
    "%run evLoad.py"
   ]
  },
  {
   "cell_type": "code",
   "execution_count": 2,
   "metadata": {
    "collapsed": false
   },
   "outputs": [
    {
     "name": "stdout",
     "output_type": "stream",
     "text": [
      "('Nissan', 'Leaf', 2011)\n",
      "('smart', 'fortwo electric drive cabriolet', 2011)\n",
      "('smart', 'fortwo electric drive coupe', 2011)\n",
      "('Mitsubishi', 'i-MiEV', 2012)\n",
      "('Azure Dynamics', 'Transit Connect Electric Van', 2012)\n",
      "('Azure Dynamics', 'Transit Connect Electric Wagon', 2012)\n",
      "('Nissan', 'Leaf', 2012)\n",
      "('BMW', 'Active E', 2011)\n",
      "('CODA Automotive', 'CODA', 2012)\n",
      "('Ford', 'Focus Electric', 2012)\n",
      "('Tesla', 'Model S', 2012)\n",
      "('Ford', 'Focus Electric', 2013)\n",
      "('Honda', 'Fit EV', 2013)\n",
      "('smart', 'fortwo electric drive convertible', 2013)\n",
      "('smart', 'fortwo electric drive coupe', 2013)\n",
      "('Scion', 'iQ EV', 2013)\n",
      "('Toyota', 'RAV4 EV', 2012)\n",
      "('CODA Automotive', 'CODA', 2013)\n",
      "('Mitsubishi', 'i-MiEV', 2013)\n",
      "('Tesla', 'Model S (60 kW-hr battery pack)', 2013)\n"
     ]
    }
   ],
   "source": [
    "cur.execute('SELECT make, model, year FROM spec LIMIT 20')\n",
    "for row in cur:\n",
    "    print(row)"
   ]
  },
  {
   "cell_type": "markdown",
   "metadata": {},
   "source": [
    "### Nissan Leaf 2012, 50 mile, charger0"
   ]
  },
  {
   "cell_type": "code",
   "execution_count": 3,
   "metadata": {
    "collapsed": false
   },
   "outputs": [
    {
     "name": "stdout",
     "output_type": "stream",
     "text": [
      "load profile (kW):  [ 1.4  1.4  1.4  1.4  1.4  1.4  1.4  1.4  1.4  1.4  1.4  1.4  1.4  1.4  1.4\n",
      "  1.4  1.4  1.4  1.4  1.4  1.4  1.4  1.4  1.4  1.4  0.   0.   0.   0.   0.\n",
      "  0.   0.   0.   0.   0.   0.   0.   0.   0.   0.   0.   0.   0.   0.   0.\n",
      "  0.   0.   0. ]\n",
      "charging time (hour):  12.14\n",
      "depletion rate:  0.68\n"
     ]
    }
   ],
   "source": [
    "data = get_ev_load_profile(50, 'Nissan', 'Leaf', 2012, 0)\n",
    "print('load profile (kW): ', np.round(data['load_profile'], 2))\n",
    "print('charging time (hour): ', np.round(data['charging_time'], 2))\n",
    "print('depletion rate: ', np.round(data['depletion'], 2))"
   ]
  },
  {
   "cell_type": "markdown",
   "metadata": {},
   "source": [
    "### Tesla Model S 2013, 200 mile, charger3"
   ]
  },
  {
   "cell_type": "code",
   "execution_count": 4,
   "metadata": {
    "collapsed": false
   },
   "outputs": [
    {
     "name": "stdout",
     "output_type": "stream",
     "text": [
      "load profile (kW):  [ 9.6  9.6  9.6  9.6  9.6  9.6  9.6  9.6  9.6  9.6  9.6  9.6  9.6  9.6  9.6\n",
      "  0.   0.   0.   0.   0.   0.   0.   0.   0.   0.   0.   0.   0.   0.   0.\n",
      "  0.   0.   0.   0.   0.   0.   0.   0.   0.   0.   0.   0.   0.   0.   0.\n",
      "  0.   0.   0. ]\n",
      "charging time (hour):  7.29\n",
      "depletion rate:  0.96\n"
     ]
    }
   ],
   "source": [
    "data = get_ev_load_profile(200, 'Tesla', 'Model S (60 kW-hr battery pack)', 2013, 3)\n",
    "print('load profile (kW): ', np.round(data['load_profile'], 2))\n",
    "print('charging time (hour): ', np.round(data['charging_time'], 2))\n",
    "print('depletion rate: ', np.round(data['depletion'], 2))"
   ]
  },
  {
   "cell_type": "markdown",
   "metadata": {},
   "source": [
    "### The case when distance exceeds the maximum range"
   ]
  },
  {
   "cell_type": "code",
   "execution_count": 5,
   "metadata": {
    "collapsed": false
   },
   "outputs": [
    {
     "name": "stdout",
     "output_type": "stream",
     "text": [
      "load profile (kW):  [ 9.6  9.6  9.6  9.6  9.6  9.6  9.6  9.6  9.6  9.6  9.6  9.6  9.6  9.6  9.6\n",
      "  9.6  0.   0.   0.   0.   0.   0.   0.   0.   0.   0.   0.   0.   0.   0.\n",
      "  0.   0.   0.   0.   0.   0.   0.   0.   0.   0.   0.   0.   0.   0.   0.\n",
      "  0.   0.   0. ]\n",
      "charging time (hour):  7.58\n",
      "depletion rate:  1.0\n"
     ]
    }
   ],
   "source": [
    "data = get_ev_load_profile(1000, 'Tesla', 'Model S (60 kW-hr battery pack)', 2013, 3)\n",
    "print('load profile (kW): ', np.round(data['load_profile'], 2))\n",
    "print('charging time (hour): ', np.round(data['charging_time'], 2))\n",
    "print('depletion rate: ', np.round(data['depletion'], 2))"
   ]
  },
  {
   "cell_type": "markdown",
   "metadata": {},
   "source": [
    "### The case when the load(kW) of the charger exceeds the acceptance load"
   ]
  },
  {
   "cell_type": "code",
   "execution_count": 6,
   "metadata": {
    "collapsed": false
   },
   "outputs": [
    {
     "name": "stdout",
     "output_type": "stream",
     "text": [
      "load profile (kW):  [ 3.55  3.55  3.55  3.55  3.55  3.55  3.55  3.55  3.55  3.55  0.    0.    0.\n",
      "  0.    0.    0.    0.    0.    0.    0.    0.    0.    0.    0.    0.    0.\n",
      "  0.    0.    0.    0.    0.    0.    0.    0.    0.    0.    0.    0.    0.\n",
      "  0.    0.    0.    0.    0.    0.    0.    0.    0.  ]\n",
      "charging time (hour):  4.79\n",
      "depletion rate:  0.68\n"
     ]
    }
   ],
   "source": [
    "data = get_ev_load_profile(50, 'Nissan', 'Leaf', 2012, 3)\n",
    "print('load profile (kW): ', np.round(data['load_profile'], 2))\n",
    "print('charging time (hour): ', np.round(data['charging_time'], 2))\n",
    "print('depletion rate: ', np.round(data['depletion'], 2))"
   ]
  },
  {
   "cell_type": "markdown",
   "metadata": {},
   "source": [
    "### The case when there is no model matching in the database"
   ]
  },
  {
   "cell_type": "code",
   "execution_count": 7,
   "metadata": {
    "collapsed": false
   },
   "outputs": [
    {
     "name": "stdout",
     "output_type": "stream",
     "text": [
      "There is no model matching to Tesla, Model SS, 2020 in the database\n"
     ]
    }
   ],
   "source": [
    "data = get_ev_load_profile(100, 'Tesla', 'Model SS', 2020, 3)"
   ]
  },
  {
   "cell_type": "code",
   "execution_count": null,
   "metadata": {
    "collapsed": true
   },
   "outputs": [],
   "source": []
  }
 ],
 "metadata": {
  "kernelspec": {
   "display_name": "Python 3",
   "language": "python",
   "name": "python3"
  },
  "language_info": {
   "codemirror_mode": {
    "name": "ipython",
    "version": 3
   },
   "file_extension": ".py",
   "mimetype": "text/x-python",
   "name": "python",
   "nbconvert_exporter": "python",
   "pygments_lexer": "ipython3",
   "version": "3.5.1"
  }
 },
 "nbformat": 4,
 "nbformat_minor": 0
}
