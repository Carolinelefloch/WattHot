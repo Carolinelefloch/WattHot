{
 "cells": [
  {
   "cell_type": "code",
   "execution_count": 1,
   "metadata": {
    "collapsed": false
   },
   "outputs": [],
   "source": [
    "import Week7_Cost as W7C\n",
    "from lib import houseLoadnew as house\n",
    "import numpy as np\n",
    "COST=W7C.Cost('db/Tariff_Rate_New.db','db/Household_15mins.db')"
   ]
  },
  {
   "cell_type": "code",
   "execution_count": 2,
   "metadata": {
    "collapsed": false
   },
   "outputs": [],
   "source": [
    "\n",
    "######Input Arguments############\n",
    "Utility_Name='Duke Energy Florida'\n",
    "Rate_Name='Residential TOU'\n",
    "N_room=2;N_day=3;N_night=0;#Ls_App=[];\n",
    "EV_Load=np.zeros(97)\n",
    "EV_Load=map(lambda x:x+0.5,EV_Load);\n",
    "No_EV=5\n",
    "Ls_App=[1,0,1,1,0,0]\n",
    "Charging_Outside=1\n",
    "#Step 1:Calculating the Cost Reduction Based on the Appliances and EV_load Input.\n",
    "EV_Cost=COST.Get_EV_Def_Cost(Charging_Outside,Utility_Name,Rate_Name,EV_Load,Ls_App,No_EV)\n",
    "\n",
    "print 'The Cost Portion of EV_load,Water pump load and HVAC load is:  '+str(EV_Cost)\n",
    "#Step 2:Preding the electricity consumption w or w/o Cost\n",
    "\n",
    "#Case 1: Cost not Given:\n",
    "Consumption_Case1=COST.Get_Monthly_Consumption(Charging_Outside,Utility_Name,Rate_Name,N_room, N_day,N_night,Ls_App,EV_Load,Cost=0,No_EV=5)\n",
    "print 'Consumption prediction w/o input cost data : '+str(Consumption_Case1)\n",
    "\n",
    "#Case 1: Cost Given:\n",
    "Consumption_Case2=COST.Get_Monthly_Consumption(Charging_Outside,Utility_Name,Rate_Name,N_room, N_day,N_night,Ls_App,EV_Load,Cost=200,No_EV=5)\n",
    "print 'Consumption prediction w input cost data : '+str(Consumption_Case2)\n",
    "\n",
    "#Step 3:Get Household Profile Based on the input consumption\n",
    "Cust_Total_Profile, Cust_Profile1, Deferred_Matrix = house.get_household_load_profile(Consumption_Case2,N_room, N_day,N_night,Ls_App,connection_time=[0, 0, 0])\n",
    "\n",
    "#Step 4: Calculating the Cost\n",
    "Cost_Summer,Cost_Winter=COST.Get_Cost(Utility_Name,Cust_Total_Profile,Cust_Profile1, Deferred_Matrix,EV_Load,No_EV=5,No_Def=2)"
   ]
  },
  {
   "cell_type": "code",
   "execution_count": 16,
   "metadata": {
    "collapsed": false
   },
   "outputs": [
    {
     "name": "stdout",
     "output_type": "stream",
     "text": [
      "The Partition Cost of EV_load,Water pump load and HVAC load is:  11.63017375\n"
     ]
    }
   ],
   "source": [
    "#Step 1:Calculating the Cost Reduction Based on the Appliances and EV_load Input.\n",
    "EV_Cost=COST.Get_EV_Def_Cost(Charging_Outside,Utility_Name,Rate_Name,EV_Load,Ls_App,No_EV)\n",
    "\n",
    "print 'The Cost Portion of EV_load,Water pump load and HVAC load is:  '+str(EV_Cost)"
   ]
  },
  {
   "cell_type": "code",
   "execution_count": 4,
   "metadata": {
    "collapsed": false
   },
   "outputs": [
    {
     "name": "stdout",
     "output_type": "stream",
     "text": [
      "Consumption prediction w/o input cost data : 408.543768117\n",
      "Deduct Cost w/o EV Load188.36982625\n",
      "Reduced Cost:  172.17982625\n",
      "(1, 0, 0)\n",
      "TOU Cost Summer:0.0754139960467\n",
      "TOU Cost Winter:0.0694564547133\n",
      "Consumption prediction w input cost data : 2377.02\n"
     ]
    }
   ],
   "source": [
    "#Step 2:Preding the electricity consumption w or w/o Cost\n",
    "\n",
    "#Case 1: Cost not Given:\n",
    "Consumption_Case1=COST.Get_Monthly_Consumption(Charging_Outside,Utility_Name,Rate_Name,N_room, N_day,N_night,Ls_App,EV_Load,Cost=0,No_EV=5)\n",
    "print 'Consumption prediction w/o input cost data : '+str(Consumption_Case1)\n",
    "\n",
    "#Case 1: Cost Given:\n",
    "Consumption_Case2=COST.Get_Monthly_Consumption(Charging_Outside,Utility_Name,Rate_Name,N_room, N_day,N_night,Ls_App,EV_Load,Cost=200,No_EV=5)\n",
    "print 'Consumption prediction w input cost data : '+str(Consumption_Case2)"
   ]
  },
  {
   "cell_type": "code",
   "execution_count": 5,
   "metadata": {
    "collapsed": false
   },
   "outputs": [
    {
     "name": "stdout",
     "output_type": "stream",
     "text": [
      "sum of profile=0.0320666266667\n",
      "sum of profile after scaling=76.2230129192\n",
      "max number in profile4.437104\n",
      "sum of profile Updated!!!=76.2230129192\n"
     ]
    }
   ],
   "source": [
    "#Step 3:Get Household Profile Based on the input consumption\n",
    "Caliration=1\n",
    "Cust_Total_Profile, Cust_Profile1, Deferred_Matrix = house.get_household_load_profile(Consumption_Case2,N_room, N_day,N_night,Ls_App,connection_time=[0, 0, 0])"
   ]
  },
  {
   "cell_type": "code",
   "execution_count": 6,
   "metadata": {
    "collapsed": false
   },
   "outputs": [
    {
     "data": {
      "text/plain": [
       "1"
      ]
     },
     "execution_count": 6,
     "metadata": {},
     "output_type": "execute_result"
    }
   ],
   "source": [
    "COST.Week_day[0]"
   ]
  },
  {
   "cell_type": "code",
   "execution_count": 7,
   "metadata": {
    "collapsed": false
   },
   "outputs": [
    {
     "data": {
      "text/plain": [
       "304.89205167680018"
      ]
     },
     "execution_count": 7,
     "metadata": {},
     "output_type": "execute_result"
    }
   ],
   "source": [
    "\n",
    "sum(Cust_Total_Profile)"
   ]
  },
  {
   "cell_type": "code",
   "execution_count": 8,
   "metadata": {
    "collapsed": false
   },
   "outputs": [
    {
     "data": {
      "text/plain": [
       "0.03333333333333333"
      ]
     },
     "execution_count": 8,
     "metadata": {},
     "output_type": "execute_result"
    }
   ],
   "source": [
    "1/float(30)"
   ]
  },
  {
   "cell_type": "code",
   "execution_count": 9,
   "metadata": {
    "collapsed": false
   },
   "outputs": [
    {
     "name": "stdout",
     "output_type": "stream",
     "text": [
      "Plan_Rate Name: (u'Residential TOU',)\n",
      "Plan_Rate Name: (u'Residential Service',)\n",
      "The Max Tier for the Given Rate is0\n",
      "The Max Tier for the Given Rate is1\n"
     ]
    }
   ],
   "source": [
    "#Step 4: Calculating the Cost\n",
    "Cost_Summer,Cost_Winter=COST.Get_Cost(Utility_Name,Cust_Total_Profile,Cust_Profile1, Deferred_Matrix,EV_Load,No_EV=5,No_Def=2)"
   ]
  },
  {
   "cell_type": "code",
   "execution_count": 15,
   "metadata": {
    "collapsed": false
   },
   "outputs": [
    {
     "data": {
      "text/plain": [
       "[array([ 181.05,  180.27]),\n",
       " array([ 4.2 ,  2.48]),\n",
       " array([ 20.46,  20.78]),\n",
       " [205.71, 203.53]]"
      ]
     },
     "execution_count": 15,
     "metadata": {},
     "output_type": "execute_result"
    }
   ],
   "source": [
    "Cost_Summer"
   ]
  },
  {
   "cell_type": "code",
   "execution_count": 11,
   "metadata": {
    "collapsed": false
   },
   "outputs": [
    {
     "data": {
      "text/plain": [
       "4.4371039999999997"
      ]
     },
     "execution_count": 11,
     "metadata": {},
     "output_type": "execute_result"
    }
   ],
   "source": [
    "max(Cust_Profile1)"
   ]
  },
  {
   "cell_type": "code",
   "execution_count": 12,
   "metadata": {
    "collapsed": false
   },
   "outputs": [
    {
     "data": {
      "text/plain": [
       "array([ 1.901616  ,  1.901616  ,  1.901616  ,  1.901616  ,  1.267744  ,\n",
       "        1.267744  ,  1.267744  ,  1.267744  ,  1.267744  ,  1.267744  ,\n",
       "        1.267744  ,  1.267744  ,  1.267744  ,  1.267744  ,  1.267744  ,\n",
       "        1.267744  ,  1.267744  ,  1.267744  ,  1.267744  ,  1.267744  ,\n",
       "        1.267744  ,  1.267744  ,  1.267744  ,  1.267744  ,  1.267744  ,\n",
       "        1.267744  ,  1.267744  ,  1.267744  ,  1.267744  ,  1.267744  ,\n",
       "        1.267744  ,  1.267744  ,  2.218552  ,  2.218552  ,  2.218552  ,\n",
       "        2.218552  ,  3.16936   ,  3.16936   ,  3.16936   ,  3.16936   ,\n",
       "        4.437104  ,  4.437104  ,  4.437104  ,  4.437104  ,  4.437104  ,\n",
       "        4.437104  ,  4.437104  ,  4.437104  ,  4.437104  ,  4.437104  ,\n",
       "        4.437104  ,  4.437104  ,  4.437104  ,  4.437104  ,  4.437104  ,\n",
       "        4.437104  ,  4.437104  ,  4.437104  ,  4.437104  ,  4.437104  ,\n",
       "        3.878104  ,  3.878104  ,  3.878104  ,  3.878104  ,  1.437104  ,\n",
       "        1.437104  ,  1.437104  ,  1.437104  ,  4.437104  ,  4.437104  ,\n",
       "        4.437104  ,  4.437104  ,  4.437104  ,  4.437104  ,  4.437104  ,\n",
       "        4.437104  ,  4.437104  ,  4.437104  ,  4.437104  ,  4.437104  ,\n",
       "        4.437104  ,  4.437104  ,  4.437104  ,  4.437104  ,  4.437104  ,\n",
       "        4.437104  ,  4.437104  ,  4.437104  ,  3.59183569,  3.59183569,\n",
       "        3.59183569,  3.59183569,  2.74678923,  2.74678923,  2.74678923,\n",
       "        2.74678923,  1.901616  ])"
      ]
     },
     "execution_count": 12,
     "metadata": {},
     "output_type": "execute_result"
    }
   ],
   "source": [
    "Cust_Profile1"
   ]
  },
  {
   "cell_type": "code",
   "execution_count": 13,
   "metadata": {
    "collapsed": false
   },
   "outputs": [
    {
     "data": {
      "text/plain": [
       "408.54376811652145"
      ]
     },
     "execution_count": 13,
     "metadata": {},
     "output_type": "execute_result"
    }
   ],
   "source": [
    "COST.Get_Consumption_Without_Cost(N_room, N_day, N_night)"
   ]
  },
  {
   "cell_type": "code",
   "execution_count": 14,
   "metadata": {
    "collapsed": false
   },
   "outputs": [
    {
     "ename": "TypeError",
     "evalue": "Get_Monthly_Consumption() takes at least 10 arguments (10 given)",
     "output_type": "error",
     "traceback": [
      "\u001b[1;31m---------------------------------------------------------------------------\u001b[0m",
      "\u001b[1;31mTypeError\u001b[0m                                 Traceback (most recent call last)",
      "\u001b[1;32m<ipython-input-14-c85b35ba1ff9>\u001b[0m in \u001b[0;36m<module>\u001b[1;34m()\u001b[0m\n\u001b[1;32m----> 1\u001b[1;33m \u001b[0mTest\u001b[0m\u001b[1;33m=\u001b[0m\u001b[0mCOST\u001b[0m\u001b[1;33m.\u001b[0m\u001b[0mGet_Monthly_Consumption\u001b[0m\u001b[1;33m(\u001b[0m\u001b[0mUtility_Name\u001b[0m\u001b[1;33m,\u001b[0m\u001b[0mRate_Name\u001b[0m\u001b[1;33m,\u001b[0m\u001b[0mN_room\u001b[0m\u001b[1;33m,\u001b[0m \u001b[0mN_day\u001b[0m\u001b[1;33m,\u001b[0m\u001b[0mN_night\u001b[0m\u001b[1;33m,\u001b[0m\u001b[0mLs_App\u001b[0m\u001b[1;33m,\u001b[0m\u001b[0mEV_Load\u001b[0m\u001b[1;33m,\u001b[0m\u001b[0mCost\u001b[0m\u001b[1;33m=\u001b[0m\u001b[1;36m30\u001b[0m\u001b[1;33m,\u001b[0m\u001b[0mNo_EV\u001b[0m\u001b[1;33m=\u001b[0m\u001b[1;36m5\u001b[0m\u001b[1;33m)\u001b[0m\u001b[1;33m\u001b[0m\u001b[0m\n\u001b[0m\u001b[0;32m      2\u001b[0m \u001b[0mTest\u001b[0m\u001b[1;33m\u001b[0m\u001b[0m\n",
      "\u001b[1;31mTypeError\u001b[0m: Get_Monthly_Consumption() takes at least 10 arguments (10 given)"
     ]
    }
   ],
   "source": [
    "Test=COST.Get_Monthly_Consumption(Utility_Name,Rate_Name,N_room, N_day,N_night,Ls_App,EV_Load,Cost=30,No_EV=5)\n",
    "Test"
   ]
  },
  {
   "cell_type": "code",
   "execution_count": null,
   "metadata": {
    "collapsed": false
   },
   "outputs": [],
   "source": [
    "Cust_Profile=(COST.Profile['Profile 3'])\n",
    "Cust_Profile#=map(lambda x:x/sum(Cust_Profile)*4,Cust_Profile)\n",
    "max(Cust_Profile)"
   ]
  },
  {
   "cell_type": "code",
   "execution_count": null,
   "metadata": {
    "collapsed": false
   },
   "outputs": [],
   "source": [
    "((COST.Profile['Profile 3']))\n",
    "0.01/30*500"
   ]
  },
  {
   "cell_type": "code",
   "execution_count": null,
   "metadata": {
    "collapsed": false
   },
   "outputs": [],
   "source": [
    "Cust_Profile=(COST.Profile['Profile 3'])\n",
    "map(lambda x: x*300,Cust_Profile)\n",
    "0.4*0.01*24"
   ]
  },
  {
   "cell_type": "code",
   "execution_count": null,
   "metadata": {
    "collapsed": false
   },
   "outputs": [],
   "source": [
    "6424"
   ]
  }
 ],
 "metadata": {
  "kernelspec": {
   "display_name": "Python 2",
   "language": "python",
   "name": "python2"
  },
  "language_info": {
   "codemirror_mode": {
    "name": "ipython",
    "version": 2
   },
   "file_extension": ".py",
   "mimetype": "text/x-python",
   "name": "python",
   "nbconvert_exporter": "python",
   "pygments_lexer": "ipython2",
   "version": "2.7.11"
  }
 },
 "nbformat": 4,
 "nbformat_minor": 0
}
