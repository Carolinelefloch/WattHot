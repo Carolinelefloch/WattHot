{
 "cells": [
  {
   "cell_type": "code",
   "execution_count": 12,
   "metadata": {
    "collapsed": false
   },
   "outputs": [
    {
     "data": {
      "text/html": [
       "<div>\n",
       "<table border=\"1\" class=\"dataframe\">\n",
       "  <thead>\n",
       "    <tr style=\"text-align: right;\">\n",
       "      <th></th>\n",
       "      <th>make</th>\n",
       "      <th>model</th>\n",
       "      <th>year</th>\n",
       "    </tr>\n",
       "  </thead>\n",
       "  <tbody>\n",
       "    <tr>\n",
       "      <th>0</th>\n",
       "      <td>Nissan</td>\n",
       "      <td>Leaf</td>\n",
       "      <td>2011</td>\n",
       "    </tr>\n",
       "    <tr>\n",
       "      <th>1</th>\n",
       "      <td>smart</td>\n",
       "      <td>fortwo electric drive cabriolet</td>\n",
       "      <td>2011</td>\n",
       "    </tr>\n",
       "    <tr>\n",
       "      <th>2</th>\n",
       "      <td>smart</td>\n",
       "      <td>fortwo electric drive coupe</td>\n",
       "      <td>2011</td>\n",
       "    </tr>\n",
       "    <tr>\n",
       "      <th>3</th>\n",
       "      <td>Mitsubishi</td>\n",
       "      <td>i-MiEV</td>\n",
       "      <td>2012</td>\n",
       "    </tr>\n",
       "    <tr>\n",
       "      <th>4</th>\n",
       "      <td>Azure Dynamics</td>\n",
       "      <td>Transit Connect Electric Van</td>\n",
       "      <td>2012</td>\n",
       "    </tr>\n",
       "  </tbody>\n",
       "</table>\n",
       "</div>"
      ],
      "text/plain": [
       "             make                            model  year\n",
       "0          Nissan                             Leaf  2011\n",
       "1           smart  fortwo electric drive cabriolet  2011\n",
       "2           smart      fortwo electric drive coupe  2011\n",
       "3      Mitsubishi                           i-MiEV  2012\n",
       "4  Azure Dynamics     Transit Connect Electric Van  2012"
      ]
     },
     "execution_count": 12,
     "metadata": {},
     "output_type": "execute_result"
    }
   ],
   "source": [
    "conn = sqlite3.connect('../db/ev_model.db')\n",
    "df = pd.read_sql('SELECT make, model, year FROM spec',conn)\n",
    "df.head()"
   ]
  },
  {
   "cell_type": "code",
   "execution_count": 13,
   "metadata": {
    "collapsed": true
   },
   "outputs": [],
   "source": [
    "df.to_csv('ev_model')"
   ]
  },
  {
   "cell_type": "code",
   "execution_count": 5,
   "metadata": {
    "collapsed": false
   },
   "outputs": [],
   "source": [
    "import evLoad"
   ]
  },
  {
   "cell_type": "code",
   "execution_count": 6,
   "metadata": {
    "collapsed": false
   },
   "outputs": [],
   "source": [
    "ev = evLoad.EV('../db/ev_model.db')"
   ]
  },
  {
   "cell_type": "code",
   "execution_count": 8,
   "metadata": {
    "collapsed": false
   },
   "outputs": [
    {
     "ename": "NameError",
     "evalue": "name 'cur' is not defined",
     "output_type": "error",
     "traceback": [
      "\u001b[0;31m---------------------------------------------------------------------------\u001b[0m",
      "\u001b[0;31mNameError\u001b[0m                                 Traceback (most recent call last)",
      "\u001b[0;32m<ipython-input-8-8ec858dca0e4>\u001b[0m in \u001b[0;36m<module>\u001b[0;34m()\u001b[0m\n\u001b[1;32m      1\u001b[0m \u001b[0mev\u001b[0m\u001b[0;34m.\u001b[0m\u001b[0mcur\u001b[0m\u001b[0;34m.\u001b[0m\u001b[0mexecute\u001b[0m\u001b[0;34m(\u001b[0m\u001b[0;34m'SELECT make, model, year FROM spec LIMIT 20'\u001b[0m\u001b[0;34m)\u001b[0m\u001b[0;34m\u001b[0m\u001b[0m\n\u001b[0;32m----> 2\u001b[0;31m \u001b[0;32mfor\u001b[0m \u001b[0mrow\u001b[0m \u001b[0;32min\u001b[0m \u001b[0mcur\u001b[0m\u001b[0;34m:\u001b[0m\u001b[0;34m\u001b[0m\u001b[0m\n\u001b[0m\u001b[1;32m      3\u001b[0m     \u001b[0mprint\u001b[0m\u001b[0;34m(\u001b[0m\u001b[0mrow\u001b[0m\u001b[0;34m)\u001b[0m\u001b[0;34m\u001b[0m\u001b[0m\n",
      "\u001b[0;31mNameError\u001b[0m: name 'cur' is not defined"
     ]
    }
   ],
   "source": [
    "ev.cur.execute('SELECT make, model, year FROM spec LIMIT 20')\n",
    "for row in cur:\n",
    "    print(row)"
   ]
  },
  {
   "cell_type": "markdown",
   "metadata": {},
   "source": [
    "### Nissan Leaf 2012, 50 mile, charger0"
   ]
  },
  {
   "cell_type": "code",
   "execution_count": 3,
   "metadata": {
    "collapsed": false
   },
   "outputs": [
    {
     "name": "stdout",
     "output_type": "stream",
     "text": [
      "load profile (kW):  [ 1.4  1.4  1.4  1.4  1.4  1.4  1.4  1.4  1.4  1.4  1.4  1.4  1.4  1.4  1.4\n",
      "  1.4  1.4  1.4  1.4  1.4  1.4  1.4  1.4  1.4  1.4  0.   0.   0.   0.   0.\n",
      "  0.   0.   0.   0.   0.   0.   0.   0.   0.   0.   0.   0.   0.   0.   0.\n",
      "  0.   0.   0. ]\n",
      "charging time (hour):  12.14\n",
      "depletion rate:  0.68\n"
     ]
    }
   ],
   "source": [
    "data = get_ev_load_profile(50, 'Nissan', 'Leaf', 2012, 0)\n",
    "print('load profile (kW): ', np.round(data['load_profile'], 2))\n",
    "print('charging time (hour): ', np.round(data['charging_time'], 2))\n",
    "print('depletion rate: ', np.round(data['depletion'], 2))"
   ]
  },
  {
   "cell_type": "markdown",
   "metadata": {},
   "source": [
    "### Tesla Model S 2013, 200 mile, charger3"
   ]
  },
  {
   "cell_type": "code",
   "execution_count": 4,
   "metadata": {
    "collapsed": false
   },
   "outputs": [
    {
     "name": "stdout",
     "output_type": "stream",
     "text": [
      "load profile (kW):  [ 9.6  9.6  9.6  9.6  9.6  9.6  9.6  9.6  9.6  9.6  9.6  9.6  9.6  9.6  9.6\n",
      "  0.   0.   0.   0.   0.   0.   0.   0.   0.   0.   0.   0.   0.   0.   0.\n",
      "  0.   0.   0.   0.   0.   0.   0.   0.   0.   0.   0.   0.   0.   0.   0.\n",
      "  0.   0.   0. ]\n",
      "charging time (hour):  7.29\n",
      "depletion rate:  0.96\n"
     ]
    }
   ],
   "source": [
    "data = get_ev_load_profile(200, 'Tesla', 'Model S (60 kW-hr battery pack)', 2013, 3)\n",
    "print('load profile (kW): ', np.round(data['load_profile'], 2))\n",
    "print('charging time (hour): ', np.round(data['charging_time'], 2))\n",
    "print('depletion rate: ', np.round(data['depletion'], 2))"
   ]
  },
  {
   "cell_type": "markdown",
   "metadata": {},
   "source": [
    "### The case when distance exceeds the maximum range"
   ]
  },
  {
   "cell_type": "code",
   "execution_count": 5,
   "metadata": {
    "collapsed": false
   },
   "outputs": [
    {
     "name": "stdout",
     "output_type": "stream",
     "text": [
      "load profile (kW):  [ 9.6  9.6  9.6  9.6  9.6  9.6  9.6  9.6  9.6  9.6  9.6  9.6  9.6  9.6  9.6\n",
      "  9.6  0.   0.   0.   0.   0.   0.   0.   0.   0.   0.   0.   0.   0.   0.\n",
      "  0.   0.   0.   0.   0.   0.   0.   0.   0.   0.   0.   0.   0.   0.   0.\n",
      "  0.   0.   0. ]\n",
      "charging time (hour):  7.58\n",
      "depletion rate:  1.0\n"
     ]
    }
   ],
   "source": [
    "data = get_ev_load_profile(1000, 'Tesla', 'Model S (60 kW-hr battery pack)', 2013, 3)\n",
    "print('load profile (kW): ', np.round(data['load_profile'], 2))\n",
    "print('charging time (hour): ', np.round(data['charging_time'], 2))\n",
    "print('depletion rate: ', np.round(data['depletion'], 2))"
   ]
  },
  {
   "cell_type": "markdown",
   "metadata": {},
   "source": [
    "### The case when the load(kW) of the charger exceeds the acceptance load"
   ]
  },
  {
   "cell_type": "code",
   "execution_count": 6,
   "metadata": {
    "collapsed": false
   },
   "outputs": [
    {
     "name": "stdout",
     "output_type": "stream",
     "text": [
      "load profile (kW):  [ 3.55  3.55  3.55  3.55  3.55  3.55  3.55  3.55  3.55  3.55  0.    0.    0.\n",
      "  0.    0.    0.    0.    0.    0.    0.    0.    0.    0.    0.    0.    0.\n",
      "  0.    0.    0.    0.    0.    0.    0.    0.    0.    0.    0.    0.    0.\n",
      "  0.    0.    0.    0.    0.    0.    0.    0.    0.  ]\n",
      "charging time (hour):  4.79\n",
      "depletion rate:  0.68\n"
     ]
    }
   ],
   "source": [
    "data = get_ev_load_profile(50, 'Nissan', 'Leaf', 2012, 3)\n",
    "print('load profile (kW): ', np.round(data['load_profile'], 2))\n",
    "print('charging time (hour): ', np.round(data['charging_time'], 2))\n",
    "print('depletion rate: ', np.round(data['depletion'], 2))"
   ]
  },
  {
   "cell_type": "markdown",
   "metadata": {},
   "source": [
    "### The case when there is no model matching in the database"
   ]
  },
  {
   "cell_type": "code",
   "execution_count": 7,
   "metadata": {
    "collapsed": false
   },
   "outputs": [
    {
     "name": "stdout",
     "output_type": "stream",
     "text": [
      "There is no model matching to Tesla, Model SS, 2020 in the database\n"
     ]
    }
   ],
   "source": [
    "data = get_ev_load_profile(100, 'Tesla', 'Model SS', 2020, 3)"
   ]
  },
  {
   "cell_type": "code",
   "execution_count": null,
   "metadata": {
    "collapsed": true
   },
   "outputs": [],
   "source": []
  }
 ],
 "metadata": {
  "kernelspec": {
   "display_name": "Python 3",
   "language": "python",
   "name": "python3"
  },
  "language_info": {
   "codemirror_mode": {
    "name": "ipython",
    "version": 3
   },
   "file_extension": ".py",
   "mimetype": "text/x-python",
   "name": "python",
   "nbconvert_exporter": "python",
   "pygments_lexer": "ipython3",
   "version": "3.5.1"
  }
 },
 "nbformat": 4,
 "nbformat_minor": 0
}
